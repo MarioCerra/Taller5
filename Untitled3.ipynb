{
  "nbformat": 4,
  "nbformat_minor": 0,
  "metadata": {
    "colab": {
      "provenance": [],
      "authorship_tag": "ABX9TyMcA93UlpCy4jaaC9sYyLkJ",
      "include_colab_link": true
    },
    "kernelspec": {
      "name": "python3",
      "display_name": "Python 3"
    },
    "language_info": {
      "name": "python"
    }
  },
  "cells": [
    {
      "cell_type": "markdown",
      "metadata": {
        "id": "view-in-github",
        "colab_type": "text"
      },
      "source": [
        "<a href=\"https://colab.research.google.com/github/MarioCerra/Taller5/blob/main/Untitled3.ipynb\" target=\"_parent\"><img src=\"https://colab.research.google.com/assets/colab-badge.svg\" alt=\"Open In Colab\"/></a>"
      ]
    },
    {
      "cell_type": "markdown",
      "source": [
        "# Taller 5 ciclos en Python\n",
        "## Mario Andres Cerra Vergara\n",
        "## ID : 000503686\n",
        "## Email : mario.cerra@upb.edu.co\n",
        "## Julio Cesar Olascuaga Bruno\n",
        "## ID : 000503419\n",
        "## Email : julio.olascuaga@upb.edu.co"
      ],
      "metadata": {
        "id": "kU8pFNeIVouu"
      }
    },
    {
      "cell_type": "code",
      "source": [
        "## escribe un programa en python que solicite al usuario un numero positivo n y luego imprima los primeros n numeros naturales usando un ciclo while\n",
        "n = int(input(\"Ingrese un número positivo: \"))\n",
        "\n",
        "if n <= 0:\n",
        "    print(\"Ingrese un número positivo.\")\n",
        "else:\n",
        "  contador = 1\n",
        "\n",
        "  while contador <= n:\n",
        "        print(contador)\n",
        "        contador += 1"
      ],
      "metadata": {
        "colab": {
          "base_uri": "https://localhost:8080/"
        },
        "id": "FlksvByGXZeH",
        "outputId": "89d027cb-ba43-4e91-9bb8-a88c5d5e4ff0"
      },
      "execution_count": 5,
      "outputs": [
        {
          "output_type": "stream",
          "name": "stdout",
          "text": [
            "Ingrese un número positivo: 5\n",
            "1\n",
            "2\n",
            "3\n",
            "4\n",
            "5\n"
          ]
        }
      ]
    },
    {
      "cell_type": "code",
      "source": [
        "## escribe un programa en python que calcule la suma de todos los numeros pares del 1 al 100 utilizando un ciclo for\n",
        "suma_par = 0\n",
        "\n",
        "for numero in range(1, 101):\n",
        "    if numero % 2 == 0:\n",
        "        suma_par += numero\n",
        "print(\"La suma de los números pares del 1 al 100 es:\", suma_par)"
      ],
      "metadata": {
        "colab": {
          "base_uri": "https://localhost:8080/"
        },
        "id": "ftYWMRy4YzXt",
        "outputId": "2cd0f6f3-76a6-47ad-d7ee-a977b401691b"
      },
      "execution_count": 6,
      "outputs": [
        {
          "output_type": "stream",
          "name": "stdout",
          "text": [
            "La suma de los números pares del 1 al 100 es: 2550\n"
          ]
        }
      ]
    },
    {
      "cell_type": "code",
      "source": [
        "## escribe un programa en python que imprima el siguente patron utilizando ciclos anidados\n",
        "n = int(input(\"ingrese el numero de filas para el patrón: \"))\n",
        "for x in range(1, n + 1):\n",
        "    for o in range(1, x + 1):\n",
        "        print(o, end=\"\")\n",
        "    print()"
      ],
      "metadata": {
        "colab": {
          "base_uri": "https://localhost:8080/"
        },
        "id": "1jcD7mOuZtRr",
        "outputId": "e8a0fa81-34ee-4b2e-c1ca-60cc4cfa0141"
      },
      "execution_count": 8,
      "outputs": [
        {
          "output_type": "stream",
          "name": "stdout",
          "text": [
            "ingrese el numero de filas para el patrón: 6\n",
            "1\n",
            "12\n",
            "123\n",
            "1234\n",
            "12345\n",
            "123456\n"
          ]
        }
      ]
    },
    {
      "cell_type": "code",
      "source": [
        " ## escribe un programa en python que solicite al usuario un numero entero posistivo y luego determine si ese numero es primo o no utilizando un ciclo while\n",
        " n = int(input(\"Ingrese un número entero positivo: \"))\n",
        "\n",
        "if n <= 0:\n",
        "    print(\"Por favor, ingrese un número entero positivo mayor que 0.\")\n",
        "else:\n",
        "    d = 0\n",
        "    di = 2\n",
        "    while di <= n // 2:\n",
        "        if n % di == 0:\n",
        "            d += 1\n",
        "        di += 1\n",
        "    if d == 0:\n",
        "        print(f\"{n} es un número primo.\")\n",
        "    else:\n",
        "        print(f\"{n} no es un número primo.\")"
      ],
      "metadata": {
        "colab": {
          "base_uri": "https://localhost:8080/"
        },
        "id": "XBdaCe1xcRbs",
        "outputId": "187b904c-a956-478b-b6eb-a16d79fad9f8"
      },
      "execution_count": 13,
      "outputs": [
        {
          "output_type": "stream",
          "name": "stdout",
          "text": [
            "Ingrese un número entero positivo: 12\n",
            "12 no es un número primo.\n"
          ]
        }
      ]
    },
    {
      "cell_type": "code",
      "source": [
        "## escribe un programa en python que incluy aun ciclo while que no se detenga hasta que el ususario ingrese salir como entrada. dentro del ciclo permite al usuario hacer operaciones matematicas simples como suma, resta, multiplicacion o division.\n",
        "while True:\n",
        "    entrada = input(\"Ingrese una operación (suma, resta, multiplicacion, division) o 'salir' para terminar: \")\n",
        "\n",
        "    if entrada.lower() == \"salir\":\n",
        "        print(\"Saliendo del programa.\")\n",
        "        break  # Salir del ciclo while\n",
        "    if entrada.lower() not in [\"suma\", \"resta\", \"multiplicacion\", \"division\"]:\n",
        "        print(\"Operación no válida. Intente nuevamente.\")\n",
        "        continue  # Continuar con la siguiente iteración del ciclo while\n",
        "    num1 = float(input(\"Ingrese el primer número: \"))\n",
        "    num2 = float(input(\"Ingrese el segundo número: \"))\n",
        "\n",
        "\n",
        "    if entrada.lower() == \"suma\":\n",
        "        resultado = num1 + num2\n",
        "    elif entrada.lower() == \"resta\":\n",
        "        resultado = num1 - num2\n",
        "    elif entrada.lower() == \"multiplicacion\":\n",
        "        resultado = num1 * num2\n",
        "    elif entrada.lower() == \"division\":\n",
        "        if num2 == 0:\n",
        "            print(\"No se puede dividir entre cero.\")\n",
        "            continue  # Continuar con la siguiente iteración del ciclo while\n",
        "        resultado = num1 / num2\n",
        "\n",
        "    print(\"Resultado:\", resultado)\n"
      ],
      "metadata": {
        "colab": {
          "base_uri": "https://localhost:8080/"
        },
        "id": "gkAiAw_CeSWt",
        "outputId": "cda5657f-e813-4b00-b277-1efae2e0b0b0"
      },
      "execution_count": 29,
      "outputs": [
        {
          "output_type": "stream",
          "name": "stdout",
          "text": [
            "Ingrese una operación (suma, resta, multiplicacion, division) o 'salir' para terminar: suma\n",
            "Ingrese el primer número: 5\n",
            "Ingrese el segundo número: 2\n",
            "Resultado: 7.0\n",
            "Ingrese una operación (suma, resta, multiplicacion, division) o 'salir' para terminar: resta\n",
            "Ingrese el primer número: 9\n",
            "Ingrese el segundo número: 3\n",
            "Resultado: 6.0\n",
            "Ingrese una operación (suma, resta, multiplicacion, division) o 'salir' para terminar: salir\n",
            "Saliendo del programa.\n"
          ]
        }
      ]
    },
    {
      "cell_type": "code",
      "source": [
        "## escribe un programa en python que imprima los numeros del 1 al nunmero ingresado por el usuario en orden descendente utilizando un ciclo for y la funcion range()\n",
        "n = int(input(\"Ingrese un número entero: \"))\n",
        "\n",
        "for numero in range(n, 0, -1):\n",
        "    print(numero)"
      ],
      "metadata": {
        "colab": {
          "base_uri": "https://localhost:8080/"
        },
        "id": "kcJ8Ff_cjVXC",
        "outputId": "80076f10-4169-4a2c-a9d0-593deddcc6c6"
      },
      "execution_count": 32,
      "outputs": [
        {
          "output_type": "stream",
          "name": "stdout",
          "text": [
            "Ingrese un número entero: 7\n",
            "7\n",
            "6\n",
            "5\n",
            "4\n",
            "3\n",
            "2\n",
            "1\n"
          ]
        }
      ]
    },
    {
      "cell_type": "code",
      "source": [
        "## escribe un programa en python que imprima la secuencia de numeros fibonacci hasta un valor dado n utilizando un ciclo while\n",
        "n = int(input(\"Ingrese un valor máximo para la secuencia de Fibonacci: \"))\n",
        "\n",
        "a, b = 0, 1\n",
        "\n",
        "print(a, end=\" \")\n",
        "\n",
        "while b <= n:\n",
        "    print(b, end=\" \")\n",
        "    a, b = b, a + b"
      ],
      "metadata": {
        "colab": {
          "base_uri": "https://localhost:8080/"
        },
        "id": "vRLCEHiWke5U",
        "outputId": "1dd8449d-5906-4e76-e157-972c572b5f1f"
      },
      "execution_count": 35,
      "outputs": [
        {
          "output_type": "stream",
          "name": "stdout",
          "text": [
            "Ingrese un valor máximo para la secuencia de Fibonacci: 25\n",
            "0 1 1 2 3 5 8 13 21 "
          ]
        }
      ]
    },
    {
      "cell_type": "code",
      "source": [
        "## escribe un programa en python que solicite al usuario que ingrese un numero entero positivo y luego calcule la suma de sus digitos utilizando un ciclo while\n",
        "numero = int(input(\"Ingrese un número entero positivo: \"))\n",
        "\n",
        "\n",
        "if numero <= 0:\n",
        "    print(\"Por favor, ingrese un número entero positivo.\")\n",
        "else:\n",
        "\n",
        "    suma_digitos = 0\n",
        "    while numero > 0:\n",
        "\n",
        "        digito = numero % 10\n",
        "\n",
        "        suma_digitos += digito\n",
        "\n",
        "        numero //= 10\n",
        "    print(\"La suma de los dígitos es:\", suma_digitos)"
      ],
      "metadata": {
        "colab": {
          "base_uri": "https://localhost:8080/"
        },
        "id": "czM5InnWleFT",
        "outputId": "5d0e6ced-903e-4cb3-9b52-2d175b153691"
      },
      "execution_count": 44,
      "outputs": [
        {
          "output_type": "stream",
          "name": "stdout",
          "text": [
            "Ingrese un número entero positivo: 77\n",
            "La suma de los dígitos es: 14\n"
          ]
        }
      ]
    }
  ]
}