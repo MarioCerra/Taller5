{
  "nbformat": 4,
  "nbformat_minor": 0,
  "metadata": {
    "colab": {
      "provenance": [],
      "authorship_tag": "ABX9TyNC63zC18vcNWjd6o4aq2Bj",
      "include_colab_link": true
    },
    "kernelspec": {
      "name": "python3",
      "display_name": "Python 3"
    },
    "language_info": {
      "name": "python"
    }
  },
  "cells": [
    {
      "cell_type": "markdown",
      "metadata": {
        "id": "view-in-github",
        "colab_type": "text"
      },
      "source": [
        "<a href=\"https://colab.research.google.com/github/MarioCerra/Taller5/blob/main/Untitled5.ipynb\" target=\"_parent\"><img src=\"https://colab.research.google.com/assets/colab-badge.svg\" alt=\"Open In Colab\"/></a>"
      ]
    },
    {
      "cell_type": "code",
      "execution_count": 5,
      "metadata": {
        "colab": {
          "base_uri": "https://localhost:8080/"
        },
        "id": "DJtChYWcQy3a",
        "outputId": "e641d5db-8572-42fe-9210-9ece0694f9d3"
      },
      "outputs": [
        {
          "output_type": "stream",
          "name": "stdout",
          "text": [
            "Bienvenido al juego de adivinanza. Adivina el número secreto entre 1 y 100.\n",
            "Ingresa un número: 15\n",
            "El número secreto es menor. Intenta de nuevo.\n",
            "Números ingresados:\n",
            "15\n",
            "Ingresa un número: 12\n",
            "El número secreto es mayor. Intenta de nuevo.\n",
            "Números ingresados:\n",
            "15\n",
            "12\n",
            "Ingresa un número: 14\n",
            "¡Felicidades! Adivinaste el número secreto 14 en 3 intentos.\n",
            "Números ingresados:\n",
            "15\n",
            "12\n",
            "14\n"
          ]
        }
      ],
      "source": [
        "import random\n",
        "numero_secreto = random.randint(1, 100)\n",
        "intentos = 0\n",
        "intentos_previos = []\n",
        "adivinado = False\n",
        "print(\"Bienvenido al juego de adivinanza. Adivina el número secreto entre 1 y 100.\")\n",
        "\n",
        "while not adivinado:\n",
        "  intento = input(\"Ingresa un número: \")\n",
        "  if not intento.isdigit():\n",
        "        print(\"Por favor, ingresa un número válido.\")\n",
        "        continue\n",
        "  intento = int(intento)\n",
        "  intentos += 1\n",
        "  intentos_previos.append(intento)\n",
        "\n",
        "  if intento < numero_secreto:\n",
        "        print(\"El número secreto es mayor. Intenta de nuevo.\")\n",
        "  elif intento > numero_secreto:\n",
        "        print(\"El número secreto es menor. Intenta de nuevo.\")\n",
        "  else:\n",
        "      adivinado = True\n",
        "      print(f\"¡Felicidades! Adivinaste el número secreto {numero_secreto} en {intentos} intentos.\")\n",
        "\n",
        "  print(\"Números ingresados:\")\n",
        "  for numero in intentos_previos:\n",
        "    print(numero)"
      ]
    },
    {
      "cell_type": "code",
      "source": [
        "import random\n",
        "numeros = [random.randint(1, 100) for _ in range(10)]\n",
        "impares = [num for num in numeros if num % 2 != 0]\n",
        "\n",
        "suma_impares = sum(impares)\n",
        "\n",
        "print(\"Números aleatorios:\", numeros)\n",
        "print(\"Números impares:\", impares)\n",
        "print(\"Suma de los números impares:\", suma_impares)"
      ],
      "metadata": {
        "colab": {
          "base_uri": "https://localhost:8080/"
        },
        "id": "AVMaMrDrScmC",
        "outputId": "b2171ab3-470e-402d-c8b3-6138d1b3f951"
      },
      "execution_count": 7,
      "outputs": [
        {
          "output_type": "stream",
          "name": "stdout",
          "text": [
            "Números aleatorios: [52, 56, 2, 69, 11, 47, 24, 1, 26, 53]\n",
            "Números impares: [69, 11, 47, 1, 53]\n",
            "Suma de los números impares: 181\n"
          ]
        }
      ]
    }
  ]
}